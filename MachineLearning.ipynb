{
  "nbformat": 4,
  "nbformat_minor": 0,
  "metadata": {
    "colab": {
      "name": "MachineLearning.ipynb",
      "provenance": [],
      "private_outputs": true,
      "collapsed_sections": [],
      "machine_shape": "hm",
      "mount_file_id": "1VCOlwBVTLRLMT_MJYc9teEyKXGTBHCk0",
      "authorship_tag": "ABX9TyMbF3EGo4bWqKTguF0XKEK9",
      "include_colab_link": true
    },
    "kernelspec": {
      "name": "python3",
      "display_name": "Python 3"
    },
    "accelerator": "GPU"
  },
  "cells": [
    {
      "cell_type": "markdown",
      "metadata": {
        "id": "view-in-github",
        "colab_type": "text"
      },
      "source": [
        "<a href=\"https://colab.research.google.com/github/ozgurugurr/Colab-Multi-Class-Text-Classification/blob/master/MachineLearning.ipynb\" target=\"_parent\"><img src=\"https://colab.research.google.com/assets/colab-badge.svg\" alt=\"Open In Colab\"/></a>"
      ]
    },
    {
      "cell_type": "code",
      "metadata": {
        "id": "XUpaki2qWkmC",
        "colab_type": "code",
        "colab": {}
      },
      "source": [
        "# Description X CategoryCode ML çalışması yaklaşık 4 sa sürüp 20 GB RAM kullanılmıştır.\n",
        "\n",
        "# --# Naive Bayes Classifier for Multinomial #\n",
        "# acc : 0.55\n",
        "\n",
        "# -- # Linear Support Vector Machine #\n",
        "# acc : 0.64\n",
        "\n",
        "# --# Logistic Regression # \n",
        "# acc : 0.74\n",
        "\n",
        "# -- # Doc2vec and Logistic Regression # \n",
        "# acc :  some fix needed"
      ],
      "execution_count": 0,
      "outputs": []
    },
    {
      "cell_type": "code",
      "metadata": {
        "id": "-JSDuoKROAvq",
        "colab_type": "code",
        "colab": {}
      },
      "source": [
        "!sudo apt-get update\n",
        "%cd drive/My\\ Drive/tf-ıdf-fasttext"
      ],
      "execution_count": 0,
      "outputs": []
    },
    {
      "cell_type": "code",
      "metadata": {
        "id": "_hGNgj2oiE0D",
        "colab_type": "code",
        "colab": {}
      },
      "source": [
        "import os\n",
        "import spacy\n",
        "import pickle\n",
        "from spacy.lang.en import English\n",
        "from spacy import displacy\n",
        "import numpy as np\n",
        "import tqdm\n",
        "import pandas as pd\n",
        "from gensim.models import FastText\n",
        "from gensim.models.phrases import Phrases, Phraser\n",
        "from gensim.parsing.preprocessing import remove_stopwords, strip_punctuation, strip_non_alphanum\n",
        "from sklearn.feature_extraction.text import TfidfVectorizer\n",
        "from sklearn.metrics.pairwise import cosine_similarity\n",
        "import logging\n",
        "from numpy import random\n",
        "from sklearn.model_selection import train_test_split\n",
        "from sklearn.metrics import accuracy_score, confusion_matrix\n",
        "import matplotlib.pyplot as plt\n",
        "from nltk.corpus import stopwords\n",
        "from bs4 import BeautifulSoup\n",
        "import nltk\n",
        "from sklearn.metrics import classification_report\n",
        "from sklearn.linear_model import LogisticRegression\n",
        "from sklearn.naive_bayes import MultinomialNB\n",
        "from sklearn.pipeline import Pipeline\n",
        "from sklearn.feature_extraction.text import TfidfTransformer\n",
        "from sklearn.feature_extraction.text import CountVectorizer, TfidfVectorizer\n",
        "from sklearn.linear_model import SGDClassifier\n",
        "from tqdm import tqdm\n",
        "tqdm.pandas(desc=\"progress-bar\")\n",
        "from gensim.models import Doc2Vec\n",
        "from sklearn import utils\n",
        "import gensim\n",
        "from gensim.models.doc2vec import TaggedDocument\n",
        "import re\n",
        "%matplotlib inline"
      ],
      "execution_count": 0,
      "outputs": []
    },
    {
      "cell_type": "code",
      "metadata": {
        "id": "kiWC4jCTygRE",
        "colab_type": "code",
        "colab": {}
      },
      "source": [
        "# Veriyi drive'a taşı\n",
        "# Mouth Drive"
      ],
      "execution_count": 0,
      "outputs": []
    },
    {
      "cell_type": "code",
      "metadata": {
        "id": "Sa_bWapNIWrF",
        "colab_type": "code",
        "colab": {}
      },
      "source": [
        "pd.options.display.max_colwidth = 800\n",
        "path = \"/content/drive/My Drive/tf-ıdf-fasttext/AllMRLineItems_Mapping_Matched.csv\"\n",
        "combined = pd.read_csv(path, skip_blank_lines= False, sep=',', low_memory=False)\n",
        "combined = pd.DataFrame(data = combined)\n",
        "combined = combined[['MRLineItemDescription','CategoryCode']]\n",
        "combined.head()"
      ],
      "execution_count": 0,
      "outputs": []
    },
    {
      "cell_type": "code",
      "metadata": {
        "id": "zHZRtPg4VyQ-",
        "colab_type": "code",
        "colab": {}
      },
      "source": [
        "print(\"CategoryCode sayısı\\n\")\n",
        "combined.CategoryCode.nunique()"
      ],
      "execution_count": 0,
      "outputs": []
    },
    {
      "cell_type": "code",
      "metadata": {
        "id": "XW2DlY0GmvSj",
        "colab_type": "code",
        "colab": {}
      },
      "source": [
        "combined = combined[pd.notnull(combined['CategoryCode'])]\n",
        "print(combined.head(10))\n",
        "print(\"Toplam kelime sayısı\")\n",
        "print(combined['MRLineItemDescription'].apply(lambda x: len(x.split(' '))).sum())"
      ],
      "execution_count": 0,
      "outputs": []
    },
    {
      "cell_type": "code",
      "metadata": {
        "id": "pjRF4tvGO389",
        "colab_type": "code",
        "colab": {}
      },
      "source": [
        "# homojen bir dağılım gözlemlenmedi"
      ],
      "execution_count": 0,
      "outputs": []
    },
    {
      "cell_type": "code",
      "metadata": {
        "id": "-zchWK2YnjN8",
        "colab_type": "code",
        "colab": {}
      },
      "source": [
        "my_tags = ['ATRX', 'DD00', 'AFGB', 'DB00', 'AMSC', 'AFCL', 'ATWP', 'AFWC', 'ATJS', 'AFTC', 'AYTC', 'AFCP', 'AY00', 'ANNM', 'AEFK', 'AFTS', 'MZW0', 'U000', 'ALLU', 'AFFT', 'ADDW', 'CE00', 'EWE1', 'ER00', 'EEA0', 'EF00', 'AYSS', 'EA00', 'PY22', 'EP00', 'PX01', 'MDHM', 'PF03', 'NND0', 'USME', 'AEFS', 'ADGS', 'ADDX', 'MLXR', 'ATFS', 'ADHD', 'AYVL', 'ANEJ', 'AFPP', 'AERA', 'AEDL', 'ADDZ', 'AFCA', 'MHLF', 'AYSF', 'ALST', 'MGED', 'ESL1', 'ETP3', 'ESL2', 'EMT2', 'ESL0', 'ES00', 'ECK0', 'EYW0', 'ENA0', 'EU00', 'MWBS', 'AYVR', 'MAHU', 'MPVE', 'MAHT', 'CY03', 'MPGF', 'PF02', 'MEC0', 'MPGC', 'PY26', 'MPGR', 'MAH0', 'ME00', 'SV00', 'JN01', 'MAHC', 'PY32', 'EVV1', 'JQ12', 'AYTA', 'AFFR', 'AFFL', 'AYML', 'ADRC', 'AYMP', 'AICM', 'AYMS', 'AESP', 'AYBD', 'AFFA', 'PY21', 'AIWS', 'AIWH', 'AFFW', 'EG00', 'ERG0', 'ELF1', 'EGL0', 'ELF2', 'EFC0', 'EWG1', 'ACE0', 'PX12', 'PB03', 'NNP0', 'MWKW', 'PV01', 'PV00', 'MPGL', 'JF05', 'ATPW', 'MFFW', 'ENF0', 'MAHV', 'ATIB', 'DD01', 'ATR0', 'ETV0', 'MPGH', 'MAHM', 'ATCT', 'AYPA', 'CY10', 'ADCA', 'DY00', 'ALLG', 'AICK', 'EFV5', 'EMT1', 'ALLS', 'PB00', 'PY05', 'MPGS', 'AAPG', 'AFMP', 'AFGG', 'MSXF', 'ADDS', 'EUY0', 'EMM0', 'MBA0', 'MEVH', 'ATRL', 'MDNE', 'NLLG', 'AFPS', 'EFW0', 'AFFC', 'ELF0', 'AEPC', 'ATWH', 'MERS', 'ATRT', 'AYPW', 'ATWC', 'MBS0', 'DY10', 'DG03', 'EB00', 'MEHU', 'DG00', 'AFMI', 'ADSM', 'ADDF', 'AMUM', 'MWDH', 'EH01', 'PY17', 'PY00', 'AAFS', 'EFV2', 'DY11', 'ATWF', 'AFPE', 'AFGP', 'AD00', 'AFFZ', 'CY17', 'MDND', 'PY01', 'DG01', 'SS01', 'CP00', 'NWC0', 'EL00', 'ERT0', 'ETP1', 'EWU0', 'FB02', 'MWR0', 'MEHR', 'MXR0', 'JL00', 'MPVS', 'MPC0', 'EBB3', 'EFY0', 'EJB0', 'EQ00', 'ET00', 'EZL0', 'EZ00', 'MERC', 'MLGP', 'MPVC', 'MLXF', 'MT00', 'PX05', 'PB05', 'PV37', 'PX09', 'PY02', 'PY10', 'MJKG', 'AILB', 'AFPC', 'MML0', 'D000', 'AI00', 'AA00', 'ATFR', 'M000', 'J000', 'ATPR', 'MT0F', 'AFPI', 'AFCM', 'AFFN', 'ECK1', 'EEC0', 'AC00', 'PY24', 'MDD0', 'MEP0', 'PV03', 'MT0W', 'JP05', 'MPCG', 'PV07', 'PY30', 'MD00', 'AE00', 'DE00', 'EW00', 'EJ00', 'ENS0', 'EWL0', 'ERF0', 'EFN7', 'EFE1', 'EFE2', 'JQ05', 'EFP0', 'ED00', 'PP00', 'MEEW', 'ANNH', 'EMP6', 'ENG0', 'ETP0', 'EWJ0', 'JA03', 'JA34', 'JD01', 'MBPR', 'MC00', 'MCRA', 'MJKH', 'MPGB', 'MPPM', 'MPVW', 'MWDC', 'PS02', 'PB04', 'NW00', 'ACCH', 'ATWB', 'AIAH', 'AFWF', 'ATRJ', 'ADEA', 'EE00', 'ECM4', 'ERC1', 'AYWP', 'AIAR', 'ATWM', 'ATDB', 'SS20', 'AESC', 'EFD0', 'MFD0', 'EWU1', 'MP00', 'MSXH', 'MUSG', 'ESM0', 'EWC0', 'JV07', 'MDNS', 'EBB1', 'P000', 'MECM', 'MPGW', 'PY14', 'MMT0', 'MUTC', 'PX07', 'ERC5', 'AFFS', 'EMT0', 'EZS0', 'MBSD', 'AMUG', 'AKSN', 'AYPC', 'ADGG', 'ESI1', 'EMC2', 'FA00', 'MFDR', 'AMCR', 'PP02', 'PP01', 'DG02', 'C000', 'EAA1', 'ECM5', 'ALS0', 'AELH', 'PV09', 'JP00', 'AFWV', 'ERC3', 'PX00', 'JT00', 'PP03', 'MJLL', 'ERC8', 'JD00', 'JA02', 'MEHX', 'ATRE', 'ADWA', 'ENN1', 'EGA0', 'EAD1', 'EFV0', 'ADDE', 'MEEP', 'MBFH', 'ERX0', 'JP01', 'NN00', 'MHC0', 'EY00', 'DA01', 'MTCT', 'SS25', 'AMSR', 'A000', 'MAA0']\n",
        "plt.figure(figsize=(30,8))\n",
        "plt.xlabel(\"Category Codes\", fontsize=24)\n",
        "plt.xticks(rotation=30)\n",
        "plt.ylabel(\"Count Of MR Line Item\",fontsize=24)\n",
        "combined.CategoryCode.value_counts().plot(kind='bar');"
      ],
      "execution_count": 0,
      "outputs": []
    },
    {
      "cell_type": "code",
      "metadata": {
        "id": "oZjHsEdXojOF",
        "colab_type": "code",
        "colab": {}
      },
      "source": [
        "def print_plot(index):\n",
        "    example = combined[combined.index == index][['MRLineItemDescription', 'CategoryCode']].values[0]\n",
        "    if len(example) > 0:\n",
        "        print(example[0])\n",
        "        print('CategoryCode:', example[1])\n",
        "print(\"Veri kontrolü\")\n",
        "print_plot(10)"
      ],
      "execution_count": 0,
      "outputs": []
    },
    {
      "cell_type": "code",
      "metadata": {
        "id": "O4SMaYU3seNP",
        "colab_type": "code",
        "colab": {}
      },
      "source": [
        "nltk.download('stopwords')\n",
        "REPLACE_BY_SPACE_RE = re.compile('[/(){}\\[\\]\\|@,;]')\n",
        "BAD_SYMBOLS_RE = re.compile('[^0-9a-z #+_]')\n",
        "STOPWORDS = set(stopwords.words('english'))\n",
        "\n",
        "def clean_text(text):\n",
        "    text = BeautifulSoup(text, \"lxml\").text \n",
        "    text = text.lower() \n",
        "    text = REPLACE_BY_SPACE_RE.sub(' ', text) #\n",
        "    text = BAD_SYMBOLS_RE.sub('', text) \n",
        "    text = ' '.join(word for word in text.split() if word not in STOPWORDS) \n",
        "    return text\n",
        "    \n",
        "combined['MRLineItemDescription'] = combined['MRLineItemDescription'].apply(clean_text)\n",
        "print_plot(10)"
      ],
      "execution_count": 0,
      "outputs": []
    },
    {
      "cell_type": "code",
      "metadata": {
        "id": "UyWAiNUws7iY",
        "colab_type": "code",
        "colab": {}
      },
      "source": [
        "print(\"Ön işlemeden geçmiş veride bulunan kelime sayısı\\n\")\n",
        "combined['MRLineItemDescription'].apply(lambda x: len(x.split(' '))).sum()"
      ],
      "execution_count": 0,
      "outputs": []
    },
    {
      "cell_type": "code",
      "metadata": {
        "id": "lTOfAyJqtNnh",
        "colab_type": "code",
        "colab": {}
      },
      "source": [
        "X = combined.MRLineItemDescription\n",
        "y = combined.CategoryCode\n",
        "X_train, X_test, y_train, y_test = train_test_split(X, y, test_size=0.2, random_state = 42)\n",
        "my_tags = ['ATRX', 'DD00', 'AFGB', 'DB00', 'AMSC', 'AFCL', 'ATWP', 'AFWC', 'ATJS', 'AFTC', 'AYTC', 'AFCP', 'AY00', 'ANNM', 'AEFK', 'AFTS', 'MZW0', 'U000', 'ALLU', 'AFFT', 'ADDW', 'CE00', 'EWE1', 'ER00', 'EEA0', 'EF00', 'AYSS', 'EA00', 'PY22', 'EP00', 'PX01', 'MDHM', 'PF03', 'NND0', 'USME', 'AEFS', 'ADGS', 'ADDX', 'MLXR', 'ATFS', 'ADHD', 'AYVL', 'ANEJ', 'AFPP', 'AERA', 'AEDL', 'ADDZ', 'AFCA', 'MHLF', 'AYSF', 'ALST', 'MGED', 'ESL1', 'ETP3', 'ESL2', 'EMT2', 'ESL0', 'ES00', 'ECK0', 'EYW0', 'ENA0', 'EU00', 'MWBS', 'AYVR', 'MAHU', 'MPVE', 'MAHT', 'CY03', 'MPGF', 'PF02', 'MEC0', 'MPGC', 'PY26', 'MPGR', 'MAH0', 'ME00', 'SV00', 'JN01', 'MAHC', 'PY32', 'EVV1', 'JQ12', 'AYTA', 'AFFR', 'AFFL', 'AYML', 'ADRC', 'AYMP', 'AICM', 'AYMS', 'AESP', 'AYBD', 'AFFA', 'PY21', 'AIWS', 'AIWH', 'AFFW', 'EG00', 'ERG0', 'ELF1', 'EGL0', 'ELF2', 'EFC0', 'EWG1', 'ACE0', 'PX12', 'PB03', 'NNP0', 'MWKW', 'PV01', 'PV00', 'MPGL', 'JF05', 'ATPW', 'MFFW', 'ENF0', 'MAHV', 'ATIB', 'DD01', 'ATR0', 'ETV0', 'MPGH', 'MAHM', 'ATCT', 'AYPA', 'CY10', 'ADCA', 'DY00', 'ALLG', 'AICK', 'EFV5', 'EMT1', 'ALLS', 'PB00', 'PY05', 'MPGS', 'AAPG', 'AFMP', 'AFGG', 'MSXF', 'ADDS', 'EUY0', 'EMM0', 'MBA0', 'MEVH', 'ATRL', 'MDNE', 'NLLG', 'AFPS', 'EFW0', 'AFFC', 'ELF0', 'AEPC', 'ATWH', 'MERS', 'ATRT', 'AYPW', 'ATWC', 'MBS0', 'DY10', 'DG03', 'EB00', 'MEHU', 'DG00', 'AFMI', 'ADSM', 'ADDF', 'AMUM', 'MWDH', 'EH01', 'PY17', 'PY00', 'AAFS', 'EFV2', 'DY11', 'ATWF', 'AFPE', 'AFGP', 'AD00', 'AFFZ', 'CY17', 'MDND', 'PY01', 'DG01', 'SS01', 'CP00', 'NWC0', 'EL00', 'ERT0', 'ETP1', 'EWU0', 'FB02', 'MWR0', 'MEHR', 'MXR0', 'JL00', 'MPVS', 'MPC0', 'EBB3', 'EFY0', 'EJB0', 'EQ00', 'ET00', 'EZL0', 'EZ00', 'MERC', 'MLGP', 'MPVC', 'MLXF', 'MT00', 'PX05', 'PB05', 'PV37', 'PX09', 'PY02', 'PY10', 'MJKG', 'AILB', 'AFPC', 'MML0', 'D000', 'AI00', 'AA00', 'ATFR', 'M000', 'J000', 'ATPR', 'MT0F', 'AFPI', 'AFCM', 'AFFN', 'ECK1', 'EEC0', 'AC00', 'PY24', 'MDD0', 'MEP0', 'PV03', 'MT0W', 'JP05', 'MPCG', 'PV07', 'PY30', 'MD00', 'AE00', 'DE00', 'EW00', 'EJ00', 'ENS0', 'EWL0', 'ERF0', 'EFN7', 'EFE1', 'EFE2', 'JQ05', 'EFP0', 'ED00', 'PP00', 'MEEW', 'ANNH', 'EMP6', 'ENG0', 'ETP0', 'EWJ0', 'JA03', 'JA34', 'JD01', 'MBPR', 'MC00', 'MCRA', 'MJKH', 'MPGB', 'MPPM', 'MPVW', 'MWDC', 'PS02', 'PB04', 'NW00', 'ACCH', 'ATWB', 'AIAH', 'AFWF', 'ATRJ', 'ADEA', 'EE00', 'ECM4', 'ERC1', 'AYWP', 'AIAR', 'ATWM', 'ATDB', 'SS20', 'AESC', 'EFD0', 'MFD0', 'EWU1', 'MP00', 'MSXH', 'MUSG', 'ESM0', 'EWC0', 'JV07', 'MDNS', 'EBB1', 'P000', 'MECM', 'MPGW', 'PY14', 'MMT0', 'MUTC', 'PX07', 'ERC5', 'AFFS', 'EMT0', 'EZS0', 'MBSD', 'AMUG', 'AKSN', 'AYPC', 'ADGG', 'ESI1', 'EMC2', 'FA00', 'MFDR', 'AMCR', 'PP02', 'PP01', 'DG02', 'C000', 'EAA1', 'ECM5', 'ALS0', 'AELH', 'PV09', 'JP00', 'AFWV', 'ERC3', 'PX00', 'JT00', 'PP03', 'MJLL', 'ERC8', 'JD00', 'JA02', 'MEHX', 'ATRE', 'ADWA', 'ENN1', 'A000', 'MAA0']\n",
        "combined.CategoryCode = combined.CategoryCode.drop_duplicates(keep = 'first')"
      ],
      "execution_count": 0,
      "outputs": []
    },
    {
      "cell_type": "code",
      "metadata": {
        "id": "v5L9kJaBtNqO",
        "colab_type": "code",
        "colab": {}
      },
      "source": [
        "# Naive Bayes Classifier for Multinomial Models #"
      ],
      "execution_count": 0,
      "outputs": []
    },
    {
      "cell_type": "code",
      "metadata": {
        "id": "K6X8l6mRtNsj",
        "colab_type": "code",
        "colab": {}
      },
      "source": [
        "nb = Pipeline([('vect', CountVectorizer()),\n",
        "               ('tfidf', TfidfTransformer()),\n",
        "               ('clf', MultinomialNB()),\n",
        "              ])\n",
        "nb.fit(X_train, y_train)\n",
        "\n",
        "%time\n",
        "\n",
        "y_pred = nb.predict(X_test)\n",
        "print('accuracy %s' % accuracy_score(y_pred, y_test))\n",
        "print(classification_report(y_test, y_pred,target_names=my_tags))"
      ],
      "execution_count": 0,
      "outputs": []
    },
    {
      "cell_type": "code",
      "metadata": {
        "id": "Anas59sztZkq",
        "colab_type": "code",
        "colab": {}
      },
      "source": [
        "# Linear Support Vector Machine #"
      ],
      "execution_count": 0,
      "outputs": []
    },
    {
      "cell_type": "code",
      "metadata": {
        "id": "-XrPa0rTtZnP",
        "colab_type": "code",
        "colab": {}
      },
      "source": [
        "from sklearn.linear_model import SGDClassifier\n",
        "\n",
        "sgd = Pipeline([('vect', CountVectorizer()),\n",
        "                ('tfidf', TfidfTransformer()),\n",
        "                ('clf', SGDClassifier(loss='hinge', penalty='l2',alpha=1e-3, random_state=42, max_iter=5, tol=None)),\n",
        "               ])\n",
        "sgd.fit(X_train, y_train)\n",
        "\n",
        "%time\n",
        "\n",
        "y_pred = sgd.predict(X_test)\n",
        "\n",
        "print('accuracy %s' % accuracy_score(y_pred, y_test))\n",
        "print(classification_report(y_test, y_pred,target_names=my_tags))"
      ],
      "execution_count": 0,
      "outputs": []
    },
    {
      "cell_type": "code",
      "metadata": {
        "id": "Gg0ZTb6ttZpg",
        "colab_type": "code",
        "colab": {}
      },
      "source": [
        "# Logistic Regression #"
      ],
      "execution_count": 0,
      "outputs": []
    },
    {
      "cell_type": "code",
      "metadata": {
        "id": "e58-_Ja5thMf",
        "colab_type": "code",
        "colab": {}
      },
      "source": [
        "from sklearn.linear_model import LogisticRegression\n",
        "\n",
        "logreg = Pipeline([('vect', CountVectorizer()),\n",
        "                ('tfidf', TfidfTransformer()),\n",
        "                ('clf', LogisticRegression(n_jobs=1, C=1e5)),\n",
        "               ])\n",
        "logreg.fit(X_train, y_train)\n",
        "\n",
        "%time\n",
        "\n",
        "y_pred = logreg.predict(X_test)\n",
        "\n",
        "print('accuracy %s' % accuracy_score(y_pred, y_test))\n",
        "print(classification_report(y_test, y_pred,target_names=my_tags))"
      ],
      "execution_count": 0,
      "outputs": []
    },
    {
      "cell_type": "code",
      "metadata": {
        "id": "alNFmvmyuzjJ",
        "colab_type": "code",
        "colab": {}
      },
      "source": [
        "# Doc2vec and Logistic Regression #"
      ],
      "execution_count": 0,
      "outputs": []
    },
    {
      "cell_type": "code",
      "metadata": {
        "id": "AumjIisMuzlT",
        "colab_type": "code",
        "colab": {}
      },
      "source": [
        "def label_sentences(corpus, label_type):\n",
        "    labeled = []\n",
        "    all_data = []\n",
        "    for i, v in enumerate(corpus):\n",
        "        label = label_type + '_' + str(i)\n",
        "        labeled.append(doc2vec.TaggedDocument(v.split(), [label]))\n",
        "    return labeled\n",
        "X_train, X_test, y_train, y_test = train_test_split(combined.MRLineItemDescription, combined.CategoryCode, random_state=0, test_size=0.3)\n",
        "X_train = label_sentences(X_train, 'Train')\n",
        "X_test = label_sentences(X_test, 'Test')\n",
        "all_data = X_train + X_test"
      ],
      "execution_count": 0,
      "outputs": []
    },
    {
      "cell_type": "code",
      "metadata": {
        "id": "9Xk6-nyqu8Pl",
        "colab_type": "code",
        "colab": {}
      },
      "source": [
        "# Doc2vec'i eğitirken, aşağıdaki parametreleri değiştirildi:\n",
        "\n",
        "# dağıtılmış kelime torbası (DBOW) kullanıldı. -> dm=0 \n",
        "# vektör boyutlu özellik vektörleri. -> vector_size=(300 , 300 )\n",
        "# kaç tane \"gürültü kelimesi\" çizileceğini belirtir. -> negative=5 \n",
        "# toplam frekansı bundan düşük olan tüm kelimeleri yok sayar. -> min_count=1\n",
        "# başlangıç öğrenme oranı -> alpha=0.065 \n",
        "# eğitim/devir sayısı -> 30"
      ],
      "execution_count": 0,
      "outputs": []
    },
    {
      "cell_type": "code",
      "metadata": {
        "id": "aLfgqvxZu8Ru",
        "colab_type": "code",
        "colab": {}
      },
      "source": [
        "model_dbow = Doc2Vec(dm=0, vector_size=300, negative=5, min_count=1, alpha=0.065, min_alpha=0.065)\n",
        "model_dbow.build_vocab([x for x in tqdm(all_data)])\n",
        "\n",
        "for epoch in range(30):\n",
        "    model_dbow.train(utils.shuffle([x for x in tqdm(all_data)]), total_examples=len(all_data), epochs=1)\n",
        "    model_dbow.alpha -= 0.002\n",
        "    model_dbow.min_alpha = model_dbow.alpha"
      ],
      "execution_count": 0,
      "outputs": []
    },
    {
      "cell_type": "code",
      "metadata": {
        "id": "be4eXzUhOcOc",
        "colab_type": "code",
        "colab": {}
      },
      "source": [
        "# Eğitimli doc2vec modelinden vektörler alınıp doc2vec özellikleri tarafından eğitilmiş \n",
        "# bir lojistik regresyon modeli elde edilir."
      ],
      "execution_count": 0,
      "outputs": []
    },
    {
      "cell_type": "code",
      "metadata": {
        "id": "3_nMyRziu8UL",
        "colab_type": "code",
        "colab": {}
      },
      "source": [
        "def get_vectors(model, corpus_size, vectors_size, vectors_type):\n",
        "    vectors = np.zeros((corpus_size, vectors_size))\n",
        "    for i in range(0, corpus_size):\n",
        "        prefix = vectors_type + '_' + str(i)\n",
        "        vectors[i] = model.docvecs[prefix]\n",
        "    return vectors\n",
        "    \n",
        "train_vectors_dbow = get_vectors(model_dbow, len(X_train), 300, 'Train')\n",
        "test_vectors_dbow = get_vectors(model_dbow, len(X_test), 300, 'Test')"
      ],
      "execution_count": 0,
      "outputs": []
    },
    {
      "cell_type": "code",
      "metadata": {
        "id": "GrvnUjaRvFfe",
        "colab_type": "code",
        "colab": {}
      },
      "source": [
        "logreg = LogisticRegression(n_jobs=1, C=1e5)\n",
        "logreg.fit(train_vectors_dbow, y_train)\n",
        "logreg = logreg.fit(train_vectors_dbow, y_train)\n",
        "y_pred = logreg.predict(test_vectors_dbow)\n",
        "my_tags = ['ATRX', 'DD00', 'AFGB', 'DB00', 'AMSC', 'AFCL', 'ATWP', 'AFWC', 'ATJS', 'AFTC', 'AYTC', 'AFCP', 'AY00', 'ANNM', 'AEFK', 'AFTS', 'MZW0', 'U000', 'ALLU', 'AFFT', 'ADDW', 'CE00', 'EWE1', 'ER00', 'EEA0', 'EF00', 'AYSS', 'EA00', 'PY22', 'EP00', 'PX01', 'MDHM', 'PF03', 'NND0', 'USME', 'AEFS', 'ADGS', 'ADDX', 'MLXR', 'ATFS', 'ADHD', 'AYVL', 'ANEJ', 'AFPP', 'AERA', 'AEDL', 'ADDZ', 'AFCA', 'MHLF', 'AYSF', 'ALST', 'MGED', 'ESL1', 'ETP3', 'ESL2', 'EMT2', 'ESL0', 'ES00', 'ECK0', 'EYW0', 'ENA0', 'EU00', 'MWBS', 'AYVR', 'MAHU', 'MPVE', 'MAHT', 'CY03', 'MPGF', 'PF02', 'MEC0', 'MPGC', 'PY26', 'MPGR', 'MAH0', 'ME00', 'SV00', 'JN01', 'MAHC', 'PY32', 'EVV1', 'JQ12', 'AYTA', 'AFFR', 'AFFL', 'AYML', 'ADRC', 'AYMP', 'AICM', 'AYMS', 'AESP', 'AYBD', 'AFFA', 'PY21', 'AIWS', 'AIWH', 'AFFW', 'EG00', 'ERG0', 'ELF1', 'EGL0', 'ELF2', 'EFC0', 'EWG1', 'ACE0', 'PX12', 'PB03', 'NNP0', 'MWKW', 'PV01', 'PV00', 'MPGL', 'JF05', 'ATPW', 'MFFW', 'ENF0', 'MAHV', 'ATIB', 'DD01', 'ATR0', 'ETV0', 'MPGH', 'MAHM', 'ATCT', 'AYPA', 'CY10', 'ADCA', 'DY00', 'ALLG', 'AICK', 'EFV5', 'EMT1', 'ALLS', 'PB00', 'PY05', 'MPGS', 'AAPG', 'AFMP', 'AFGG', 'MSXF', 'ADDS', 'EUY0', 'EMM0', 'MBA0', 'MEVH', 'ATRL', 'MDNE', 'NLLG', 'AFPS', 'EFW0', 'AFFC', 'ELF0', 'AEPC', 'ATWH', 'MERS', 'ATRT', 'AYPW', 'ATWC', 'MBS0', 'DY10', 'DG03', 'EB00', 'MEHU', 'DG00', 'AFMI', 'ADSM', 'ADDF', 'AMUM', 'MWDH', 'EH01', 'PY17', 'PY00', 'AAFS', 'EFV2', 'DY11', 'ATWF', 'AFPE', 'AFGP', 'AD00', 'AFFZ', 'CY17', 'MDND', 'PY01', 'DG01', 'SS01', 'CP00', 'NWC0', 'EL00', 'ERT0', 'ETP1', 'EWU0', 'FB02', 'MWR0', 'MEHR', 'MXR0', 'JL00', 'MPVS', 'MPC0', 'EBB3', 'EFY0', 'EJB0', 'EQ00', 'ET00', 'EZL0', 'EZ00', 'MERC', 'MLGP', 'MPVC', 'MLXF', 'MT00', 'PX05', 'PB05', 'PV37', 'PX09', 'PY02', 'PY10', 'MJKG', 'AILB', 'AFPC', 'MML0', 'D000', 'AI00', 'AA00', 'ATFR', 'M000', 'J000', 'ATPR', 'MT0F', 'AFPI', 'AFCM', 'AFFN', 'ECK1', 'EEC0', 'AC00', 'PY24', 'MDD0', 'MEP0', 'PV03', 'MT0W', 'JP05', 'MPCG', 'PV07', 'PY30', 'MD00', 'AE00', 'DE00', 'EW00', 'EJ00', 'ENS0', 'EWL0', 'ERF0', 'EFN7', 'EFE1', 'EFE2', 'JQ05', 'EFP0', 'ED00', 'PP00', 'MEEW', 'ANNH', 'EMP6', 'ENG0', 'ETP0', 'EWJ0', 'JA03', 'JA34', 'JD01', 'MBPR', 'MC00', 'MCRA', 'MJKH', 'MPGB', 'MPPM', 'MPVW', 'MWDC', 'PS02', 'PB04', 'NW00', 'ACCH', 'ATWB', 'AIAH', 'AFWF', 'ATRJ', 'ADEA', 'EE00', 'ECM4', 'ERC1', 'AYWP', 'AIAR', 'ATWM', 'ATDB', 'SS20', 'AESC', 'EFD0', 'MFD0', 'EWU1', 'MP00', 'MSXH', 'MUSG', 'ESM0', 'EWC0', 'JV07', 'MDNS', 'EBB1', 'P000', 'MECM', 'MPGW', 'PY14', 'MMT0', 'MUTC', 'PX07', 'ERC5', 'AFFS', 'EMT0', 'EZS0', 'MBSD', 'AMUG', 'AKSN', 'AYPC', 'ADGG', 'ESI1', 'EMC2', 'FA00', 'MFDR', 'AMCR', 'PP02', 'PP01', 'DG02', 'C000', 'EAA1', 'ECM5', 'ALS0', 'AELH', 'PV09', 'JP00', 'AFWV', 'ERC3', 'PX00', 'JT00', 'PP03', 'MJLL', 'ERC8', 'JD00', 'JA02', 'MEHX', 'ATRE', 'ADWA', 'ENN1', 'A000', 'MAA0']\n",
        "\n",
        "print('accuracy %s' % accuracy_score(y_pred, y_test))\n",
        "print(classification_report(y_test, y_pred,target_names=my_tags))"
      ],
      "execution_count": 0,
      "outputs": []
    }
  ]
}